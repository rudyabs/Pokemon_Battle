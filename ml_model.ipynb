{
 "cells": [
  {
   "cell_type": "code",
   "execution_count": 1,
   "metadata": {},
   "outputs": [],
   "source": [
    "import pandas as pd\n",
    "import numpy as np"
   ]
  },
  {
   "cell_type": "code",
   "execution_count": 2,
   "metadata": {},
   "outputs": [],
   "source": [
    "import matplotlib.pyplot as plt\n",
    "import seaborn as sns"
   ]
  },
  {
   "cell_type": "code",
   "execution_count": 3,
   "metadata": {},
   "outputs": [],
   "source": [
    "%matplotlib inline"
   ]
  },
  {
   "cell_type": "code",
   "execution_count": 4,
   "metadata": {},
   "outputs": [],
   "source": [
    "df_combat = pd.read_csv('combats.csv')\n",
    "df_test = pd.read_csv('tests.csv')\n",
    "df_pokemon = pd.read_csv('pokemon.csv')"
   ]
  },
  {
   "cell_type": "code",
   "execution_count": 5,
   "metadata": {},
   "outputs": [
    {
     "data": {
      "text/html": [
       "<div>\n",
       "<style scoped>\n",
       "    .dataframe tbody tr th:only-of-type {\n",
       "        vertical-align: middle;\n",
       "    }\n",
       "\n",
       "    .dataframe tbody tr th {\n",
       "        vertical-align: top;\n",
       "    }\n",
       "\n",
       "    .dataframe thead th {\n",
       "        text-align: right;\n",
       "    }\n",
       "</style>\n",
       "<table border=\"1\" class=\"dataframe\">\n",
       "  <thead>\n",
       "    <tr style=\"text-align: right;\">\n",
       "      <th></th>\n",
       "      <th>First_pokemon</th>\n",
       "      <th>Second_pokemon</th>\n",
       "      <th>Winner</th>\n",
       "    </tr>\n",
       "  </thead>\n",
       "  <tbody>\n",
       "    <tr>\n",
       "      <th>0</th>\n",
       "      <td>266</td>\n",
       "      <td>298</td>\n",
       "      <td>298</td>\n",
       "    </tr>\n",
       "    <tr>\n",
       "      <th>1</th>\n",
       "      <td>702</td>\n",
       "      <td>701</td>\n",
       "      <td>701</td>\n",
       "    </tr>\n",
       "    <tr>\n",
       "      <th>2</th>\n",
       "      <td>191</td>\n",
       "      <td>668</td>\n",
       "      <td>668</td>\n",
       "    </tr>\n",
       "    <tr>\n",
       "      <th>3</th>\n",
       "      <td>237</td>\n",
       "      <td>683</td>\n",
       "      <td>683</td>\n",
       "    </tr>\n",
       "    <tr>\n",
       "      <th>4</th>\n",
       "      <td>151</td>\n",
       "      <td>231</td>\n",
       "      <td>151</td>\n",
       "    </tr>\n",
       "  </tbody>\n",
       "</table>\n",
       "</div>"
      ],
      "text/plain": [
       "   First_pokemon  Second_pokemon  Winner\n",
       "0            266             298     298\n",
       "1            702             701     701\n",
       "2            191             668     668\n",
       "3            237             683     683\n",
       "4            151             231     151"
      ]
     },
     "metadata": {},
     "output_type": "display_data"
    },
    {
     "data": {
      "text/plain": [
       "(50000, 3)"
      ]
     },
     "metadata": {},
     "output_type": "display_data"
    }
   ],
   "source": [
    "display(df_combat.head())\n",
    "display(df_combat.shape)"
   ]
  },
  {
   "cell_type": "code",
   "execution_count": 6,
   "metadata": {},
   "outputs": [
    {
     "data": {
      "text/html": [
       "<div>\n",
       "<style scoped>\n",
       "    .dataframe tbody tr th:only-of-type {\n",
       "        vertical-align: middle;\n",
       "    }\n",
       "\n",
       "    .dataframe tbody tr th {\n",
       "        vertical-align: top;\n",
       "    }\n",
       "\n",
       "    .dataframe thead th {\n",
       "        text-align: right;\n",
       "    }\n",
       "</style>\n",
       "<table border=\"1\" class=\"dataframe\">\n",
       "  <thead>\n",
       "    <tr style=\"text-align: right;\">\n",
       "      <th></th>\n",
       "      <th>First_pokemon</th>\n",
       "      <th>Second_pokemon</th>\n",
       "    </tr>\n",
       "  </thead>\n",
       "  <tbody>\n",
       "    <tr>\n",
       "      <th>0</th>\n",
       "      <td>129</td>\n",
       "      <td>117</td>\n",
       "    </tr>\n",
       "    <tr>\n",
       "      <th>1</th>\n",
       "      <td>660</td>\n",
       "      <td>211</td>\n",
       "    </tr>\n",
       "    <tr>\n",
       "      <th>2</th>\n",
       "      <td>706</td>\n",
       "      <td>115</td>\n",
       "    </tr>\n",
       "    <tr>\n",
       "      <th>3</th>\n",
       "      <td>195</td>\n",
       "      <td>618</td>\n",
       "    </tr>\n",
       "    <tr>\n",
       "      <th>4</th>\n",
       "      <td>27</td>\n",
       "      <td>656</td>\n",
       "    </tr>\n",
       "  </tbody>\n",
       "</table>\n",
       "</div>"
      ],
      "text/plain": [
       "   First_pokemon  Second_pokemon\n",
       "0            129             117\n",
       "1            660             211\n",
       "2            706             115\n",
       "3            195             618\n",
       "4             27             656"
      ]
     },
     "metadata": {},
     "output_type": "display_data"
    },
    {
     "data": {
      "text/plain": [
       "(10000, 2)"
      ]
     },
     "metadata": {},
     "output_type": "display_data"
    }
   ],
   "source": [
    "display(df_test.head())\n",
    "display(df_test.shape)"
   ]
  },
  {
   "cell_type": "code",
   "execution_count": 7,
   "metadata": {},
   "outputs": [
    {
     "data": {
      "text/html": [
       "<div>\n",
       "<style scoped>\n",
       "    .dataframe tbody tr th:only-of-type {\n",
       "        vertical-align: middle;\n",
       "    }\n",
       "\n",
       "    .dataframe tbody tr th {\n",
       "        vertical-align: top;\n",
       "    }\n",
       "\n",
       "    .dataframe thead th {\n",
       "        text-align: right;\n",
       "    }\n",
       "</style>\n",
       "<table border=\"1\" class=\"dataframe\">\n",
       "  <thead>\n",
       "    <tr style=\"text-align: right;\">\n",
       "      <th></th>\n",
       "      <th>#</th>\n",
       "      <th>Name</th>\n",
       "      <th>Type 1</th>\n",
       "      <th>Type 2</th>\n",
       "      <th>HP</th>\n",
       "      <th>Attack</th>\n",
       "      <th>Defense</th>\n",
       "      <th>Sp. Atk</th>\n",
       "      <th>Sp. Def</th>\n",
       "      <th>Speed</th>\n",
       "      <th>Generation</th>\n",
       "      <th>Legendary</th>\n",
       "    </tr>\n",
       "  </thead>\n",
       "  <tbody>\n",
       "    <tr>\n",
       "      <th>0</th>\n",
       "      <td>1</td>\n",
       "      <td>Bulbasaur</td>\n",
       "      <td>Grass</td>\n",
       "      <td>Poison</td>\n",
       "      <td>45</td>\n",
       "      <td>49</td>\n",
       "      <td>49</td>\n",
       "      <td>65</td>\n",
       "      <td>65</td>\n",
       "      <td>45</td>\n",
       "      <td>1</td>\n",
       "      <td>False</td>\n",
       "    </tr>\n",
       "    <tr>\n",
       "      <th>1</th>\n",
       "      <td>2</td>\n",
       "      <td>Ivysaur</td>\n",
       "      <td>Grass</td>\n",
       "      <td>Poison</td>\n",
       "      <td>60</td>\n",
       "      <td>62</td>\n",
       "      <td>63</td>\n",
       "      <td>80</td>\n",
       "      <td>80</td>\n",
       "      <td>60</td>\n",
       "      <td>1</td>\n",
       "      <td>False</td>\n",
       "    </tr>\n",
       "    <tr>\n",
       "      <th>2</th>\n",
       "      <td>3</td>\n",
       "      <td>Venusaur</td>\n",
       "      <td>Grass</td>\n",
       "      <td>Poison</td>\n",
       "      <td>80</td>\n",
       "      <td>82</td>\n",
       "      <td>83</td>\n",
       "      <td>100</td>\n",
       "      <td>100</td>\n",
       "      <td>80</td>\n",
       "      <td>1</td>\n",
       "      <td>False</td>\n",
       "    </tr>\n",
       "    <tr>\n",
       "      <th>3</th>\n",
       "      <td>4</td>\n",
       "      <td>Mega Venusaur</td>\n",
       "      <td>Grass</td>\n",
       "      <td>Poison</td>\n",
       "      <td>80</td>\n",
       "      <td>100</td>\n",
       "      <td>123</td>\n",
       "      <td>122</td>\n",
       "      <td>120</td>\n",
       "      <td>80</td>\n",
       "      <td>1</td>\n",
       "      <td>False</td>\n",
       "    </tr>\n",
       "    <tr>\n",
       "      <th>4</th>\n",
       "      <td>5</td>\n",
       "      <td>Charmander</td>\n",
       "      <td>Fire</td>\n",
       "      <td>NaN</td>\n",
       "      <td>39</td>\n",
       "      <td>52</td>\n",
       "      <td>43</td>\n",
       "      <td>60</td>\n",
       "      <td>50</td>\n",
       "      <td>65</td>\n",
       "      <td>1</td>\n",
       "      <td>False</td>\n",
       "    </tr>\n",
       "  </tbody>\n",
       "</table>\n",
       "</div>"
      ],
      "text/plain": [
       "   #           Name Type 1  Type 2  HP  Attack  Defense  Sp. Atk  Sp. Def  \\\n",
       "0  1      Bulbasaur  Grass  Poison  45      49       49       65       65   \n",
       "1  2        Ivysaur  Grass  Poison  60      62       63       80       80   \n",
       "2  3       Venusaur  Grass  Poison  80      82       83      100      100   \n",
       "3  4  Mega Venusaur  Grass  Poison  80     100      123      122      120   \n",
       "4  5     Charmander   Fire     NaN  39      52       43       60       50   \n",
       "\n",
       "   Speed  Generation  Legendary  \n",
       "0     45           1      False  \n",
       "1     60           1      False  \n",
       "2     80           1      False  \n",
       "3     80           1      False  \n",
       "4     65           1      False  "
      ]
     },
     "metadata": {},
     "output_type": "display_data"
    },
    {
     "data": {
      "text/plain": [
       "(800, 12)"
      ]
     },
     "metadata": {},
     "output_type": "display_data"
    }
   ],
   "source": [
    "display(df_pokemon.head())\n",
    "display(df_pokemon.shape)"
   ]
  },
  {
   "cell_type": "code",
   "execution_count": 8,
   "metadata": {},
   "outputs": [],
   "source": [
    "df_combat['1st_pokemon_name'] = df_combat['First_pokemon'].apply(lambda x:df_pokemon['Name'][x-1])\n",
    "df_combat['1st_pokemon_type1'] = df_combat['First_pokemon'].apply(lambda x:df_pokemon['Type 1'][x-1])\n",
    "df_combat['1st_pokemon_hp'] = df_combat['First_pokemon'].apply(lambda x:df_pokemon['HP'][x-1])\n",
    "df_combat['1st_pokemon_attack'] = df_combat['First_pokemon'].apply(lambda x:df_pokemon['Attack'][x-1])\n",
    "df_combat['1st_pokemon_defense'] = df_combat['First_pokemon'].apply(lambda x:df_pokemon['Defense'][x-1])\n",
    "df_combat['1st_pokemon_spatk'] = df_combat['First_pokemon'].apply(lambda x:df_pokemon['Sp. Atk'][x-1])\n",
    "df_combat['1st_pokemon_spdef'] = df_combat['First_pokemon'].apply(lambda x:df_pokemon['Sp. Def'][x-1])\n",
    "df_combat['1st_pokemon_speed'] = df_combat['First_pokemon'].apply(lambda x:df_pokemon['Speed'][x-1])\n",
    "\n",
    "df_combat['2nd_pokemon_name'] = df_combat['Second_pokemon'].apply(lambda x:df_pokemon['Name'][x-1])\n",
    "df_combat['2nd_pokemon_type1'] = df_combat['Second_pokemon'].apply(lambda x:df_pokemon['Type 1'][x-1])\n",
    "df_combat['2nd_pokemon_hp'] = df_combat['Second_pokemon'].apply(lambda x:df_pokemon['HP'][x-1])\n",
    "df_combat['2nd_pokemon_attack'] = df_combat['Second_pokemon'].apply(lambda x:df_pokemon['Attack'][x-1])\n",
    "df_combat['2nd_pokemon_defense'] = df_combat['Second_pokemon'].apply(lambda x:df_pokemon['Defense'][x-1])\n",
    "df_combat['2nd_pokemon_spatk'] = df_combat['Second_pokemon'].apply(lambda x:df_pokemon['Sp. Atk'][x-1])\n",
    "df_combat['2nd_pokemon_spdef'] = df_combat['Second_pokemon'].apply(lambda x:df_pokemon['Sp. Def'][x-1])\n",
    "df_combat['2nd_pokemon_speed'] = df_combat['Second_pokemon'].apply(lambda x:df_pokemon['Speed'][x-1])"
   ]
  },
  {
   "cell_type": "code",
   "execution_count": 9,
   "metadata": {},
   "outputs": [
    {
     "data": {
      "text/html": [
       "<div>\n",
       "<style scoped>\n",
       "    .dataframe tbody tr th:only-of-type {\n",
       "        vertical-align: middle;\n",
       "    }\n",
       "\n",
       "    .dataframe tbody tr th {\n",
       "        vertical-align: top;\n",
       "    }\n",
       "\n",
       "    .dataframe thead th {\n",
       "        text-align: right;\n",
       "    }\n",
       "</style>\n",
       "<table border=\"1\" class=\"dataframe\">\n",
       "  <thead>\n",
       "    <tr style=\"text-align: right;\">\n",
       "      <th></th>\n",
       "      <th>First_pokemon</th>\n",
       "      <th>Second_pokemon</th>\n",
       "      <th>Winner</th>\n",
       "      <th>1st_pokemon_name</th>\n",
       "      <th>1st_pokemon_type1</th>\n",
       "      <th>1st_pokemon_hp</th>\n",
       "      <th>1st_pokemon_attack</th>\n",
       "      <th>1st_pokemon_defense</th>\n",
       "      <th>1st_pokemon_spatk</th>\n",
       "      <th>1st_pokemon_spdef</th>\n",
       "      <th>1st_pokemon_speed</th>\n",
       "      <th>2nd_pokemon_name</th>\n",
       "      <th>2nd_pokemon_type1</th>\n",
       "      <th>2nd_pokemon_hp</th>\n",
       "      <th>2nd_pokemon_attack</th>\n",
       "      <th>2nd_pokemon_defense</th>\n",
       "      <th>2nd_pokemon_spatk</th>\n",
       "      <th>2nd_pokemon_spdef</th>\n",
       "      <th>2nd_pokemon_speed</th>\n",
       "    </tr>\n",
       "  </thead>\n",
       "  <tbody>\n",
       "    <tr>\n",
       "      <th>0</th>\n",
       "      <td>266</td>\n",
       "      <td>298</td>\n",
       "      <td>298</td>\n",
       "      <td>Larvitar</td>\n",
       "      <td>Rock</td>\n",
       "      <td>50</td>\n",
       "      <td>64</td>\n",
       "      <td>50</td>\n",
       "      <td>45</td>\n",
       "      <td>50</td>\n",
       "      <td>41</td>\n",
       "      <td>Nuzleaf</td>\n",
       "      <td>Grass</td>\n",
       "      <td>70</td>\n",
       "      <td>70</td>\n",
       "      <td>40</td>\n",
       "      <td>60</td>\n",
       "      <td>40</td>\n",
       "      <td>60</td>\n",
       "    </tr>\n",
       "    <tr>\n",
       "      <th>1</th>\n",
       "      <td>702</td>\n",
       "      <td>701</td>\n",
       "      <td>701</td>\n",
       "      <td>Virizion</td>\n",
       "      <td>Grass</td>\n",
       "      <td>91</td>\n",
       "      <td>90</td>\n",
       "      <td>72</td>\n",
       "      <td>90</td>\n",
       "      <td>129</td>\n",
       "      <td>108</td>\n",
       "      <td>Terrakion</td>\n",
       "      <td>Rock</td>\n",
       "      <td>91</td>\n",
       "      <td>129</td>\n",
       "      <td>90</td>\n",
       "      <td>72</td>\n",
       "      <td>90</td>\n",
       "      <td>108</td>\n",
       "    </tr>\n",
       "    <tr>\n",
       "      <th>2</th>\n",
       "      <td>191</td>\n",
       "      <td>668</td>\n",
       "      <td>668</td>\n",
       "      <td>Togetic</td>\n",
       "      <td>Fairy</td>\n",
       "      <td>55</td>\n",
       "      <td>40</td>\n",
       "      <td>85</td>\n",
       "      <td>80</td>\n",
       "      <td>105</td>\n",
       "      <td>40</td>\n",
       "      <td>Beheeyem</td>\n",
       "      <td>Psychic</td>\n",
       "      <td>75</td>\n",
       "      <td>75</td>\n",
       "      <td>75</td>\n",
       "      <td>125</td>\n",
       "      <td>95</td>\n",
       "      <td>40</td>\n",
       "    </tr>\n",
       "    <tr>\n",
       "      <th>3</th>\n",
       "      <td>237</td>\n",
       "      <td>683</td>\n",
       "      <td>683</td>\n",
       "      <td>Slugma</td>\n",
       "      <td>Fire</td>\n",
       "      <td>40</td>\n",
       "      <td>40</td>\n",
       "      <td>40</td>\n",
       "      <td>70</td>\n",
       "      <td>40</td>\n",
       "      <td>20</td>\n",
       "      <td>Druddigon</td>\n",
       "      <td>Dragon</td>\n",
       "      <td>77</td>\n",
       "      <td>120</td>\n",
       "      <td>90</td>\n",
       "      <td>60</td>\n",
       "      <td>90</td>\n",
       "      <td>48</td>\n",
       "    </tr>\n",
       "    <tr>\n",
       "      <th>4</th>\n",
       "      <td>151</td>\n",
       "      <td>231</td>\n",
       "      <td>151</td>\n",
       "      <td>Omastar</td>\n",
       "      <td>Rock</td>\n",
       "      <td>70</td>\n",
       "      <td>60</td>\n",
       "      <td>125</td>\n",
       "      <td>115</td>\n",
       "      <td>70</td>\n",
       "      <td>55</td>\n",
       "      <td>Shuckle</td>\n",
       "      <td>Bug</td>\n",
       "      <td>20</td>\n",
       "      <td>10</td>\n",
       "      <td>230</td>\n",
       "      <td>10</td>\n",
       "      <td>230</td>\n",
       "      <td>5</td>\n",
       "    </tr>\n",
       "  </tbody>\n",
       "</table>\n",
       "</div>"
      ],
      "text/plain": [
       "   First_pokemon  Second_pokemon  Winner 1st_pokemon_name 1st_pokemon_type1  \\\n",
       "0            266             298     298         Larvitar              Rock   \n",
       "1            702             701     701         Virizion             Grass   \n",
       "2            191             668     668          Togetic             Fairy   \n",
       "3            237             683     683           Slugma              Fire   \n",
       "4            151             231     151          Omastar              Rock   \n",
       "\n",
       "   1st_pokemon_hp  1st_pokemon_attack  1st_pokemon_defense  1st_pokemon_spatk  \\\n",
       "0              50                  64                   50                 45   \n",
       "1              91                  90                   72                 90   \n",
       "2              55                  40                   85                 80   \n",
       "3              40                  40                   40                 70   \n",
       "4              70                  60                  125                115   \n",
       "\n",
       "   1st_pokemon_spdef  1st_pokemon_speed 2nd_pokemon_name 2nd_pokemon_type1  \\\n",
       "0                 50                 41          Nuzleaf             Grass   \n",
       "1                129                108        Terrakion              Rock   \n",
       "2                105                 40         Beheeyem           Psychic   \n",
       "3                 40                 20        Druddigon            Dragon   \n",
       "4                 70                 55          Shuckle               Bug   \n",
       "\n",
       "   2nd_pokemon_hp  2nd_pokemon_attack  2nd_pokemon_defense  2nd_pokemon_spatk  \\\n",
       "0              70                  70                   40                 60   \n",
       "1              91                 129                   90                 72   \n",
       "2              75                  75                   75                125   \n",
       "3              77                 120                   90                 60   \n",
       "4              20                  10                  230                 10   \n",
       "\n",
       "   2nd_pokemon_spdef  2nd_pokemon_speed  \n",
       "0                 40                 60  \n",
       "1                 90                108  \n",
       "2                 95                 40  \n",
       "3                 90                 48  \n",
       "4                230                  5  "
      ]
     },
     "execution_count": 9,
     "metadata": {},
     "output_type": "execute_result"
    }
   ],
   "source": [
    "df_combat.head()"
   ]
  },
  {
   "cell_type": "code",
   "execution_count": 10,
   "metadata": {},
   "outputs": [
    {
     "data": {
      "text/plain": [
       "First_pokemon           0\n",
       "Second_pokemon          0\n",
       "Winner                  0\n",
       "1st_pokemon_name       56\n",
       "1st_pokemon_type1       0\n",
       "1st_pokemon_hp          0\n",
       "1st_pokemon_attack      0\n",
       "1st_pokemon_defense     0\n",
       "1st_pokemon_spatk       0\n",
       "1st_pokemon_spdef       0\n",
       "1st_pokemon_speed       0\n",
       "2nd_pokemon_name       52\n",
       "2nd_pokemon_type1       0\n",
       "2nd_pokemon_hp          0\n",
       "2nd_pokemon_attack      0\n",
       "2nd_pokemon_defense     0\n",
       "2nd_pokemon_spatk       0\n",
       "2nd_pokemon_spdef       0\n",
       "2nd_pokemon_speed       0\n",
       "dtype: int64"
      ]
     },
     "execution_count": 10,
     "metadata": {},
     "output_type": "execute_result"
    }
   ],
   "source": [
    "df_combat.isnull().sum()"
   ]
  },
  {
   "cell_type": "code",
   "execution_count": 11,
   "metadata": {},
   "outputs": [],
   "source": [
    "df_combat['First_win'] = df_combat.apply(lambda col: 1 if col['Winner'] == col['First_pokemon'] else 0, axis=1)"
   ]
  },
  {
   "cell_type": "code",
   "execution_count": 12,
   "metadata": {},
   "outputs": [],
   "source": [
    "from sklearn.preprocessing import LabelEncoder"
   ]
  },
  {
   "cell_type": "code",
   "execution_count": 13,
   "metadata": {},
   "outputs": [],
   "source": [
    "label_1st_type1 = LabelEncoder()\n",
    "label_2nd_type1 = LabelEncoder()"
   ]
  },
  {
   "cell_type": "code",
   "execution_count": 14,
   "metadata": {},
   "outputs": [
    {
     "data": {
      "text/plain": [
       "LabelEncoder()"
      ]
     },
     "execution_count": 14,
     "metadata": {},
     "output_type": "execute_result"
    }
   ],
   "source": [
    "label_1st_type1.fit(df_combat['1st_pokemon_type1'])\n",
    "label_2nd_type1.fit(df_combat['2nd_pokemon_type1'])"
   ]
  },
  {
   "cell_type": "code",
   "execution_count": 15,
   "metadata": {},
   "outputs": [],
   "source": [
    "df_combat['label_1st_type1'] = label_1st_type1.transform(df_combat['1st_pokemon_type1'])\n",
    "df_combat['label_2nd_type1'] = label_2nd_type1.transform(df_combat['2nd_pokemon_type1'])"
   ]
  },
  {
   "cell_type": "code",
   "execution_count": 16,
   "metadata": {},
   "outputs": [
    {
     "data": {
      "text/html": [
       "<div>\n",
       "<style scoped>\n",
       "    .dataframe tbody tr th:only-of-type {\n",
       "        vertical-align: middle;\n",
       "    }\n",
       "\n",
       "    .dataframe tbody tr th {\n",
       "        vertical-align: top;\n",
       "    }\n",
       "\n",
       "    .dataframe thead th {\n",
       "        text-align: right;\n",
       "    }\n",
       "</style>\n",
       "<table border=\"1\" class=\"dataframe\">\n",
       "  <thead>\n",
       "    <tr style=\"text-align: right;\">\n",
       "      <th></th>\n",
       "      <th>First_pokemon</th>\n",
       "      <th>Second_pokemon</th>\n",
       "      <th>Winner</th>\n",
       "      <th>1st_pokemon_name</th>\n",
       "      <th>1st_pokemon_type1</th>\n",
       "      <th>1st_pokemon_hp</th>\n",
       "      <th>1st_pokemon_attack</th>\n",
       "      <th>1st_pokemon_defense</th>\n",
       "      <th>1st_pokemon_spatk</th>\n",
       "      <th>1st_pokemon_spdef</th>\n",
       "      <th>...</th>\n",
       "      <th>2nd_pokemon_type1</th>\n",
       "      <th>2nd_pokemon_hp</th>\n",
       "      <th>2nd_pokemon_attack</th>\n",
       "      <th>2nd_pokemon_defense</th>\n",
       "      <th>2nd_pokemon_spatk</th>\n",
       "      <th>2nd_pokemon_spdef</th>\n",
       "      <th>2nd_pokemon_speed</th>\n",
       "      <th>First_win</th>\n",
       "      <th>label_1st_type1</th>\n",
       "      <th>label_2nd_type1</th>\n",
       "    </tr>\n",
       "  </thead>\n",
       "  <tbody>\n",
       "    <tr>\n",
       "      <th>0</th>\n",
       "      <td>266</td>\n",
       "      <td>298</td>\n",
       "      <td>298</td>\n",
       "      <td>Larvitar</td>\n",
       "      <td>Rock</td>\n",
       "      <td>50</td>\n",
       "      <td>64</td>\n",
       "      <td>50</td>\n",
       "      <td>45</td>\n",
       "      <td>50</td>\n",
       "      <td>...</td>\n",
       "      <td>Grass</td>\n",
       "      <td>70</td>\n",
       "      <td>70</td>\n",
       "      <td>40</td>\n",
       "      <td>60</td>\n",
       "      <td>40</td>\n",
       "      <td>60</td>\n",
       "      <td>0</td>\n",
       "      <td>15</td>\n",
       "      <td>9</td>\n",
       "    </tr>\n",
       "    <tr>\n",
       "      <th>1</th>\n",
       "      <td>702</td>\n",
       "      <td>701</td>\n",
       "      <td>701</td>\n",
       "      <td>Virizion</td>\n",
       "      <td>Grass</td>\n",
       "      <td>91</td>\n",
       "      <td>90</td>\n",
       "      <td>72</td>\n",
       "      <td>90</td>\n",
       "      <td>129</td>\n",
       "      <td>...</td>\n",
       "      <td>Rock</td>\n",
       "      <td>91</td>\n",
       "      <td>129</td>\n",
       "      <td>90</td>\n",
       "      <td>72</td>\n",
       "      <td>90</td>\n",
       "      <td>108</td>\n",
       "      <td>0</td>\n",
       "      <td>9</td>\n",
       "      <td>15</td>\n",
       "    </tr>\n",
       "    <tr>\n",
       "      <th>2</th>\n",
       "      <td>191</td>\n",
       "      <td>668</td>\n",
       "      <td>668</td>\n",
       "      <td>Togetic</td>\n",
       "      <td>Fairy</td>\n",
       "      <td>55</td>\n",
       "      <td>40</td>\n",
       "      <td>85</td>\n",
       "      <td>80</td>\n",
       "      <td>105</td>\n",
       "      <td>...</td>\n",
       "      <td>Psychic</td>\n",
       "      <td>75</td>\n",
       "      <td>75</td>\n",
       "      <td>75</td>\n",
       "      <td>125</td>\n",
       "      <td>95</td>\n",
       "      <td>40</td>\n",
       "      <td>0</td>\n",
       "      <td>4</td>\n",
       "      <td>14</td>\n",
       "    </tr>\n",
       "    <tr>\n",
       "      <th>3</th>\n",
       "      <td>237</td>\n",
       "      <td>683</td>\n",
       "      <td>683</td>\n",
       "      <td>Slugma</td>\n",
       "      <td>Fire</td>\n",
       "      <td>40</td>\n",
       "      <td>40</td>\n",
       "      <td>40</td>\n",
       "      <td>70</td>\n",
       "      <td>40</td>\n",
       "      <td>...</td>\n",
       "      <td>Dragon</td>\n",
       "      <td>77</td>\n",
       "      <td>120</td>\n",
       "      <td>90</td>\n",
       "      <td>60</td>\n",
       "      <td>90</td>\n",
       "      <td>48</td>\n",
       "      <td>0</td>\n",
       "      <td>6</td>\n",
       "      <td>2</td>\n",
       "    </tr>\n",
       "    <tr>\n",
       "      <th>4</th>\n",
       "      <td>151</td>\n",
       "      <td>231</td>\n",
       "      <td>151</td>\n",
       "      <td>Omastar</td>\n",
       "      <td>Rock</td>\n",
       "      <td>70</td>\n",
       "      <td>60</td>\n",
       "      <td>125</td>\n",
       "      <td>115</td>\n",
       "      <td>70</td>\n",
       "      <td>...</td>\n",
       "      <td>Bug</td>\n",
       "      <td>20</td>\n",
       "      <td>10</td>\n",
       "      <td>230</td>\n",
       "      <td>10</td>\n",
       "      <td>230</td>\n",
       "      <td>5</td>\n",
       "      <td>1</td>\n",
       "      <td>15</td>\n",
       "      <td>0</td>\n",
       "    </tr>\n",
       "  </tbody>\n",
       "</table>\n",
       "<p>5 rows × 22 columns</p>\n",
       "</div>"
      ],
      "text/plain": [
       "   First_pokemon  Second_pokemon  Winner 1st_pokemon_name 1st_pokemon_type1  \\\n",
       "0            266             298     298         Larvitar              Rock   \n",
       "1            702             701     701         Virizion             Grass   \n",
       "2            191             668     668          Togetic             Fairy   \n",
       "3            237             683     683           Slugma              Fire   \n",
       "4            151             231     151          Omastar              Rock   \n",
       "\n",
       "   1st_pokemon_hp  1st_pokemon_attack  1st_pokemon_defense  1st_pokemon_spatk  \\\n",
       "0              50                  64                   50                 45   \n",
       "1              91                  90                   72                 90   \n",
       "2              55                  40                   85                 80   \n",
       "3              40                  40                   40                 70   \n",
       "4              70                  60                  125                115   \n",
       "\n",
       "   1st_pokemon_spdef  ...  2nd_pokemon_type1 2nd_pokemon_hp  \\\n",
       "0                 50  ...              Grass             70   \n",
       "1                129  ...               Rock             91   \n",
       "2                105  ...            Psychic             75   \n",
       "3                 40  ...             Dragon             77   \n",
       "4                 70  ...                Bug             20   \n",
       "\n",
       "  2nd_pokemon_attack  2nd_pokemon_defense  2nd_pokemon_spatk  \\\n",
       "0                 70                   40                 60   \n",
       "1                129                   90                 72   \n",
       "2                 75                   75                125   \n",
       "3                120                   90                 60   \n",
       "4                 10                  230                 10   \n",
       "\n",
       "   2nd_pokemon_spdef  2nd_pokemon_speed  First_win  label_1st_type1  \\\n",
       "0                 40                 60          0               15   \n",
       "1                 90                108          0                9   \n",
       "2                 95                 40          0                4   \n",
       "3                 90                 48          0                6   \n",
       "4                230                  5          1               15   \n",
       "\n",
       "   label_2nd_type1  \n",
       "0                9  \n",
       "1               15  \n",
       "2               14  \n",
       "3                2  \n",
       "4                0  \n",
       "\n",
       "[5 rows x 22 columns]"
      ]
     },
     "execution_count": 16,
     "metadata": {},
     "output_type": "execute_result"
    }
   ],
   "source": [
    "df_combat.head()"
   ]
  },
  {
   "cell_type": "code",
   "execution_count": 17,
   "metadata": {},
   "outputs": [
    {
     "data": {
      "text/plain": [
       "Index(['First_pokemon', 'Second_pokemon', 'Winner', '1st_pokemon_name',\n",
       "       '1st_pokemon_type1', '1st_pokemon_hp', '1st_pokemon_attack',\n",
       "       '1st_pokemon_defense', '1st_pokemon_spatk', '1st_pokemon_spdef',\n",
       "       '1st_pokemon_speed', '2nd_pokemon_name', '2nd_pokemon_type1',\n",
       "       '2nd_pokemon_hp', '2nd_pokemon_attack', '2nd_pokemon_defense',\n",
       "       '2nd_pokemon_spatk', '2nd_pokemon_spdef', '2nd_pokemon_speed',\n",
       "       'First_win', 'label_1st_type1', 'label_2nd_type1'],\n",
       "      dtype='object')"
      ]
     },
     "execution_count": 17,
     "metadata": {},
     "output_type": "execute_result"
    }
   ],
   "source": [
    "df_combat.columns"
   ]
  },
  {
   "cell_type": "code",
   "execution_count": 27,
   "metadata": {},
   "outputs": [],
   "source": [
    "X = df_combat.drop(['First_pokemon', 'Second_pokemon', 'Winner', '1st_pokemon_name',\n",
    "       '1st_pokemon_type1', '2nd_pokemon_type1', '2nd_pokemon_name', 'First_win'],axis=1)\n",
    "y = df_combat['First_win']"
   ]
  },
  {
   "cell_type": "code",
   "execution_count": 28,
   "metadata": {},
   "outputs": [
    {
     "data": {
      "text/plain": [
       "Index(['1st_pokemon_hp', '1st_pokemon_attack', '1st_pokemon_defense',\n",
       "       '1st_pokemon_spatk', '1st_pokemon_spdef', '1st_pokemon_speed',\n",
       "       '2nd_pokemon_hp', '2nd_pokemon_attack', '2nd_pokemon_defense',\n",
       "       '2nd_pokemon_spatk', '2nd_pokemon_spdef', '2nd_pokemon_speed',\n",
       "       'label_1st_type1', 'label_2nd_type1'],\n",
       "      dtype='object')"
      ]
     },
     "execution_count": 28,
     "metadata": {},
     "output_type": "execute_result"
    }
   ],
   "source": [
    "X.columns"
   ]
  },
  {
   "cell_type": "code",
   "execution_count": 19,
   "metadata": {},
   "outputs": [],
   "source": [
    "from sklearn.model_selection import train_test_split"
   ]
  },
  {
   "cell_type": "code",
   "execution_count": 20,
   "metadata": {},
   "outputs": [],
   "source": [
    "X_train, X_test, y_train, y_test = train_test_split(X, y, test_size=0.33)"
   ]
  },
  {
   "cell_type": "code",
   "execution_count": 21,
   "metadata": {},
   "outputs": [],
   "source": [
    "from sklearn.metrics import classification_report, confusion_matrix\n",
    "from sklearn.ensemble import RandomForestClassifier"
   ]
  },
  {
   "cell_type": "code",
   "execution_count": 22,
   "metadata": {},
   "outputs": [],
   "source": [
    "rfc_model = RandomForestClassifier(n_estimators=100)"
   ]
  },
  {
   "cell_type": "code",
   "execution_count": 23,
   "metadata": {},
   "outputs": [
    {
     "data": {
      "text/plain": [
       "RandomForestClassifier(bootstrap=True, class_weight=None, criterion='gini',\n",
       "                       max_depth=None, max_features='auto', max_leaf_nodes=None,\n",
       "                       min_impurity_decrease=0.0, min_impurity_split=None,\n",
       "                       min_samples_leaf=1, min_samples_split=2,\n",
       "                       min_weight_fraction_leaf=0.0, n_estimators=100,\n",
       "                       n_jobs=None, oob_score=False, random_state=None,\n",
       "                       verbose=0, warm_start=False)"
      ]
     },
     "execution_count": 23,
     "metadata": {},
     "output_type": "execute_result"
    }
   ],
   "source": [
    "rfc_model.fit(X_train,y_train)"
   ]
  },
  {
   "cell_type": "code",
   "execution_count": 24,
   "metadata": {},
   "outputs": [],
   "source": [
    "prediction_rfc = rfc_model.predict(X_test)"
   ]
  },
  {
   "cell_type": "code",
   "execution_count": 25,
   "metadata": {},
   "outputs": [
    {
     "name": "stdout",
     "output_type": "stream",
     "text": [
      "              precision    recall  f1-score   support\n",
      "\n",
      "           0       0.96      0.94      0.95      8815\n",
      "           1       0.93      0.95      0.94      7685\n",
      "\n",
      "    accuracy                           0.94     16500\n",
      "   macro avg       0.94      0.94      0.94     16500\n",
      "weighted avg       0.94      0.94      0.94     16500\n",
      "\n"
     ]
    }
   ],
   "source": [
    "print(classification_report(y_test,prediction_rfc))"
   ]
  },
  {
   "cell_type": "code",
   "execution_count": 26,
   "metadata": {},
   "outputs": [
    {
     "name": "stdout",
     "output_type": "stream",
     "text": [
      "[[8249  566]\n",
      " [ 386 7299]]\n"
     ]
    }
   ],
   "source": [
    "print(confusion_matrix(y_test,prediction_rfc))"
   ]
  },
  {
   "cell_type": "code",
   "execution_count": null,
   "metadata": {},
   "outputs": [],
   "source": []
  }
 ],
 "metadata": {
  "kernelspec": {
   "display_name": "Python 3",
   "language": "python",
   "name": "python3"
  },
  "language_info": {
   "codemirror_mode": {
    "name": "ipython",
    "version": 3
   },
   "file_extension": ".py",
   "mimetype": "text/x-python",
   "name": "python",
   "nbconvert_exporter": "python",
   "pygments_lexer": "ipython3",
   "version": "3.7.3"
  }
 },
 "nbformat": 4,
 "nbformat_minor": 2
}
